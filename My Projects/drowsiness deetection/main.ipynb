{
 "cells": [
  {
   "cell_type": "code",
   "execution_count": 1,
   "id": "35623d95",
   "metadata": {},
   "outputs": [
    {
     "name": "stdout",
     "output_type": "stream",
     "text": [
      "pygame 2.0.2 (SDL 2.0.16, Python 3.8.0)\n",
      "Hello from the pygame community. https://www.pygame.org/contribute.html\n"
     ]
    }
   ],
   "source": [
    "import cv2\n",
    "import tensorflow as tf\n",
    "from tensorflow.keras.models import load_model\n",
    "from pygame import mixer\n",
    "import numpy as np"
   ]
  },
  {
   "cell_type": "code",
   "execution_count": 2,
   "id": "0642b750",
   "metadata": {},
   "outputs": [],
   "source": [
    "face_cascade=cv2.CascadeClassifier(cv2.data.haarcascades+'haarcascade_frontalface_default.xml')\n",
    "eye_cascade=cv2.CascadeClassifier(cv2.data.haarcascades+'haarcascade_eye.xml')\n",
    "model=load_model(r'C:\\Users\\ganes\\Desktop\\drowsiness\\mrlEyes_2018_01\\model\\model.h5')"
   ]
  },
  {
   "cell_type": "code",
   "execution_count": 19,
   "id": "6ac15ca1",
   "metadata": {},
   "outputs": [],
   "source": [
    "mixer.init()\n",
    "sound=mixer.Sound(r'C:\\Users\\ganes\\Desktop\\drowsiness\\mrlEyes_2018_01\\alarm.wav')\n",
    "cap=cv2.VideoCapture(0)\n",
    "score=0\n",
    "while True:\n",
    "    ret,frame=cap.read()\n",
    "    height,width=frame.shape[0:2]\n",
    "    gray = cv2.cvtColor(frame, cv2.COLOR_BGR2GRAY)\n",
    "    faces= face_cascade.detectMultiScale(gray, scaleFactor= 1.2, minNeighbors=3)\n",
    "    eyes=eye_cascade.detectMultiScale(gray,scaleFactor=1.1,minNeighbors=1)\n",
    "    cv2.rectangle(frame,(0,height-50),(200,height),(0,0,0),thickness=cv2.FILLED)\n",
    "    for (x,y,w,h) in faces:\n",
    "        cv2.rectangle(frame,pt1=(x,y),pt2=(x+w,y+h),color=(255,0,0),thickness=3)\n",
    "    for (ex,ey,ew,eh) in eyes:\n",
    "        cv2.rectangle(frame,pt1=(ex,ey),pt2=(ex+ew,ey+eh),color=(255,0,0),thickness=3)\n",
    "        #preprocesing\\steps \n",
    "        eye=frame[ey:ey+eh,ex:ex+w]\n",
    "        eye=cv2.resize(eye,(80,80))\n",
    "        eye=eye/255\n",
    "        eye=eye.reshape(80,80,3)\n",
    "        eye=np.expand_dims(eye,axis=0)\n",
    "        #preprocseeing is done model prediction\n",
    "        pred=model.predict(eye)\n",
    "        #print(pred)\n",
    "        if pred[0][0]>0.30:\n",
    "            cv2.putText(frame,'closed',(10,height-20),fontFace=cv2.FONT_HERSHEY_COMPLEX,fontScale=1,color=(255,255,255)\n",
    "                        ,thickness=1,lineType=cv2.LINE_AA)\n",
    "            cv2.putText(frame,'score'+str(score),(100,height-20),fontFace=cv2.FONT_HERSHEY_COMPLEX,fontScale=1,color=(255,255,255)\n",
    "                        ,thickness=1,lineType=cv2.LINE_AA)\n",
    "            score+=1\n",
    "            if(score>3):\n",
    "                try:\n",
    "                    sound.play()\n",
    "                except:\n",
    "             \n",
    "                    pass\n",
    "        if pred[0][1]>0.50:\n",
    "            cv2.putText(frame,'open',(10,height-20),fontFace=cv2.FONT_HERSHEY_COMPLEX,fontScale=1,color=(255,255,255)\n",
    "                        ,thickness=1,lineType=cv2.LINE_AA)\n",
    "            cv2.putText(frame,'score'+str(score),(100,height-20),fontFace=cv2.FONT_HERSHEY_COMPLEX,fontScale=1,color=(255,255,255)\n",
    "                        ,thickness=1,lineType=cv2.LINE_AA)\n",
    "            score-=1\n",
    "            if score<0:\n",
    "                score=0\n",
    "    cv2.imshow('frame',frame)\n",
    "    if cv2.waitKey(33) & 0xFF==ord('q'):\n",
    "        break\n",
    "\n",
    "\n",
    "cap.release() \n",
    "cv2.destroyAllWindows()\n",
    "    "
   ]
  },
  {
   "cell_type": "code",
   "execution_count": null,
   "id": "c8b8b202",
   "metadata": {},
   "outputs": [],
   "source": []
  },
  {
   "cell_type": "code",
   "execution_count": null,
   "id": "befeaaf8",
   "metadata": {},
   "outputs": [],
   "source": []
  }
 ],
 "metadata": {
  "kernelspec": {
   "display_name": "Python 3 (ipykernel)",
   "language": "python",
   "name": "python3"
  },
  "language_info": {
   "codemirror_mode": {
    "name": "ipython",
    "version": 3
   },
   "file_extension": ".py",
   "mimetype": "text/x-python",
   "name": "python",
   "nbconvert_exporter": "python",
   "pygments_lexer": "ipython3",
   "version": "3.8.0"
  }
 },
 "nbformat": 4,
 "nbformat_minor": 5
}
