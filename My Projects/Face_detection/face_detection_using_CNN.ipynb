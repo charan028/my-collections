{
  "nbformat": 4,
  "nbformat_minor": 0,
  "metadata": {
    "colab": {
      "name": "face detection using CNN",
      "provenance": [],
      "collapsed_sections": []
    },
    "kernelspec": {
      "name": "python3",
      "display_name": "Python 3"
    }
  },
  "cells": [
    {
      "cell_type": "code",
      "metadata": {
        "id": "r2txJKrGkd-6",
        "colab_type": "code",
        "colab": {
          "base_uri": "https://localhost:8080/",
          "height": 124
        },
        "outputId": "583d97cc-a840-4114-a317-7c2dd2ae7c11"
      },
      "source": [
        "from google.colab import drive\n",
        "drive.mount('/content/gdrive')"
      ],
      "execution_count": 2,
      "outputs": [
        {
          "output_type": "stream",
          "text": [
            "Go to this URL in a browser: https://accounts.google.com/o/oauth2/auth?client_id=947318989803-6bn6qk8qdgf4n4g3pfee6491hc0brc4i.apps.googleusercontent.com&redirect_uri=urn%3aietf%3awg%3aoauth%3a2.0%3aoob&scope=email%20https%3a%2f%2fwww.googleapis.com%2fauth%2fdocs.test%20https%3a%2f%2fwww.googleapis.com%2fauth%2fdrive%20https%3a%2f%2fwww.googleapis.com%2fauth%2fdrive.photos.readonly%20https%3a%2f%2fwww.googleapis.com%2fauth%2fpeopleapi.readonly&response_type=code\n",
            "\n",
            "Enter your authorization code:\n",
            "··········\n",
            "Mounted at /content/gdrive\n"
          ],
          "name": "stdout"
        }
      ]
    },
    {
      "cell_type": "code",
      "metadata": {
        "id": "zExKcusxk3FC",
        "colab_type": "code",
        "colab": {
          "base_uri": "https://localhost:8080/",
          "height": 55
        },
        "outputId": "12952059-97b5-42da-ef5b-28bedd7f5e03"
      },
      "source": [
        "!unzip -q \"/content/gdrive/My Drive/data.zip\""
      ],
      "execution_count": 68,
      "outputs": [
        {
          "output_type": "stream",
          "text": [
            "unzip:  cannot find or open /content/gdrive/My Drive/data.zip, /content/gdrive/My Drive/data.zip.zip or /content/gdrive/My Drive/data.zip.ZIP.\n"
          ],
          "name": "stdout"
        }
      ]
    },
    {
      "cell_type": "code",
      "metadata": {
        "id": "uPTkqp-lmXMN",
        "colab_type": "code",
        "colab": {
          "base_uri": "https://localhost:8080/",
          "height": 69
        },
        "outputId": "bc0432f5-7384-4121-dc3d-95ce80a62812"
      },
      "source": [
        "import cv2,os\n",
        "data_path='data'\n",
        "categories=os.listdir(data_path)\n",
        "labels=[i for i in range(len(categories))]\n",
        "label_dict=dict(zip(categories,labels))\n",
        "print(label_dict)\n",
        "print(labels)\n",
        "print(categories)"
      ],
      "execution_count": 69,
      "outputs": [
        {
          "output_type": "stream",
          "text": [
            "{'with_mask': 0, 'without_mask': 1}\n",
            "[0, 1]\n",
            "['with_mask', 'without_mask']\n"
          ],
          "name": "stdout"
        }
      ]
    },
    {
      "cell_type": "code",
      "metadata": {
        "id": "JejV5Z7LnCaD",
        "colab_type": "code",
        "colab": {}
      },
      "source": [
        "img_size=100\n",
        "data=[]\n",
        "target=[]\n",
        "\n",
        "\n",
        "for category in categories:\n",
        "    folder_path=os.path.join(data_path,category)\n",
        "    img_names=os.listdir(folder_path)\n",
        "        \n",
        "    for img_name in img_names:\n",
        "        img_path=os.path.join(folder_path,img_name)\n",
        "        img=cv2.imread(img_path)\n",
        "\n",
        "        try:\n",
        "            gray=cv2.cvtColor(img,cv2.COLOR_BGR2GRAY)           \n",
        "            #Coverting the image into gray scale\n",
        "            resized=cv2.resize(gray,(img_size,img_size))\n",
        "            #resizing the gray scale into 50x50, since we need a fixed common size for all the images in the dataset\n",
        "            data.append(resized)\n",
        "            target.append(label_dict[category])\n",
        "            #appending the image and the label(categorized) into the list (dataset)\n",
        "\n",
        "        except Exception as e:\n",
        "            print('Exception:',e)"
      ],
      "execution_count": 70,
      "outputs": []
    },
    {
      "cell_type": "code",
      "metadata": {
        "id": "uY320sSmoyR_",
        "colab_type": "code",
        "colab": {}
      },
      "source": [
        "import numpy as np\n",
        "import keras\n",
        "data=np.array(data)/255.0\n",
        "data=np.reshape(data,(data.shape[0],img_size,img_size,1))\n",
        "target=np.array(target)\n",
        "from keras.utils import np_utils\n",
        "new_target=np_utils.to_categorical(target)"
      ],
      "execution_count": 71,
      "outputs": []
    },
    {
      "cell_type": "code",
      "metadata": {
        "id": "r7HyIePVpgM_",
        "colab_type": "code",
        "colab": {}
      },
      "source": [
        "from keras.models import  Sequential\n",
        "from keras.layers import Dense,Activation,Flatten,Dropout\n",
        "from keras.layers import Conv2D,MaxPooling2D\n",
        "from keras.callbacks import ModelCheckpoint"
      ],
      "execution_count": 72,
      "outputs": []
    },
    {
      "cell_type": "code",
      "metadata": {
        "id": "U-4OeKARq-WG",
        "colab_type": "code",
        "colab": {}
      },
      "source": [
        "from keras.models import Sequential\n",
        "from keras.layers import Dense,Activation,Flatten,Dropout\n",
        "from keras.layers import Conv2D,MaxPooling2D\n",
        "from keras.callbacks import ModelCheckpoint\n",
        "\n",
        "model=Sequential()\n",
        "\n",
        "model.add(Conv2D(200,(3,3),input_shape=data.shape[1:]))\n",
        "model.add(Activation('relu'))\n",
        "model.add(MaxPooling2D(pool_size=(2,2)))\n",
        "#The first CNN layer followed by Relu and MaxPooling layers\n",
        "\n",
        "model.add(Conv2D(100,(3,3)))\n",
        "model.add(Activation('relu'))\n",
        "model.add(MaxPooling2D(pool_size=(2,2)))\n",
        "#The second convolution layer followed by Relu and MaxPooling layers\n",
        "\n",
        "model.add(Flatten())\n",
        "model.add(Dropout(0.5))\n",
        "#Flatten layer to stack the output convolutions from second convolution layer\n",
        "model.add(Dense(50,activation='relu'))\n",
        "#Dense layer of 64 neurons\n",
        "model.add(Dense(2,activation='softmax'))\n",
        "#The Final layer with two outputs for two categories\n",
        "\n",
        "model.compile(loss='categorical_crossentropy',optimizer='adam',metrics=['accuracy'])"
      ],
      "execution_count": 73,
      "outputs": []
    },
    {
      "cell_type": "code",
      "metadata": {
        "id": "SoDSt5OKtL_q",
        "colab_type": "code",
        "colab": {}
      },
      "source": [
        " from sklearn.model_selection import train_test_split\n",
        "X_train,X_test,Y_train,Y_test=train_test_split(data,new_target,test_size=0.2)"
      ],
      "execution_count": 74,
      "outputs": []
    },
    {
      "cell_type": "code",
      "metadata": {
        "id": "e22_F6YIuNih",
        "colab_type": "code",
        "colab": {
          "base_uri": "https://localhost:8080/",
          "height": 523
        },
        "outputId": "0e2d985e-7c25-48b5-d8de-66c480b2b5d9"
      },
      "source": [
        "checkpoint = ModelCheckpoint('model-{epoch:03d}.model',monitor='val_loss',verbose=0,save_best_only=True,mode='auto')\n",
        "history=model.fit(X_train,Y_train,epochs=10,batch_size=32,callbacks=[checkpoint],validation_split=0.2)"
      ],
      "execution_count": 75,
      "outputs": [
        {
          "output_type": "stream",
          "text": [
            "Epoch 1/10\n",
            "28/28 [==============================] - ETA: 0s - loss: 0.7350 - accuracy: 0.5466INFO:tensorflow:Assets written to: model-001.model/assets\n",
            "28/28 [==============================] - 67s 2s/step - loss: 0.7350 - accuracy: 0.5466 - val_loss: 0.6677 - val_accuracy: 0.5045\n",
            "Epoch 2/10\n",
            "28/28 [==============================] - ETA: 0s - loss: 0.5493 - accuracy: 0.7261INFO:tensorflow:Assets written to: model-002.model/assets\n",
            "28/28 [==============================] - 66s 2s/step - loss: 0.5493 - accuracy: 0.7261 - val_loss: 0.4574 - val_accuracy: 0.7909\n",
            "Epoch 3/10\n",
            "28/28 [==============================] - ETA: 0s - loss: 0.3979 - accuracy: 0.8227INFO:tensorflow:Assets written to: model-003.model/assets\n",
            "28/28 [==============================] - 66s 2s/step - loss: 0.3979 - accuracy: 0.8227 - val_loss: 0.3833 - val_accuracy: 0.8364\n",
            "Epoch 4/10\n",
            "28/28 [==============================] - ETA: 0s - loss: 0.2720 - accuracy: 0.9034INFO:tensorflow:Assets written to: model-004.model/assets\n",
            "28/28 [==============================] - 66s 2s/step - loss: 0.2720 - accuracy: 0.9034 - val_loss: 0.2780 - val_accuracy: 0.8864\n",
            "Epoch 5/10\n",
            "28/28 [==============================] - ETA: 0s - loss: 0.2017 - accuracy: 0.9307INFO:tensorflow:Assets written to: model-005.model/assets\n",
            "28/28 [==============================] - 66s 2s/step - loss: 0.2017 - accuracy: 0.9307 - val_loss: 0.1811 - val_accuracy: 0.9227\n",
            "Epoch 6/10\n",
            "28/28 [==============================] - 65s 2s/step - loss: 0.1907 - accuracy: 0.9227 - val_loss: 0.2432 - val_accuracy: 0.8864\n",
            "Epoch 7/10\n",
            "28/28 [==============================] - ETA: 0s - loss: 0.1595 - accuracy: 0.9432INFO:tensorflow:Assets written to: model-007.model/assets\n",
            "28/28 [==============================] - 66s 2s/step - loss: 0.1595 - accuracy: 0.9432 - val_loss: 0.1585 - val_accuracy: 0.9364\n",
            "Epoch 8/10\n",
            "28/28 [==============================] - ETA: 0s - loss: 0.1220 - accuracy: 0.9545INFO:tensorflow:Assets written to: model-008.model/assets\n",
            "28/28 [==============================] - 66s 2s/step - loss: 0.1220 - accuracy: 0.9545 - val_loss: 0.1563 - val_accuracy: 0.9273\n",
            "Epoch 9/10\n",
            "28/28 [==============================] - ETA: 0s - loss: 0.0887 - accuracy: 0.9739INFO:tensorflow:Assets written to: model-009.model/assets\n",
            "28/28 [==============================] - 68s 2s/step - loss: 0.0887 - accuracy: 0.9739 - val_loss: 0.1150 - val_accuracy: 0.9591\n",
            "Epoch 10/10\n",
            "28/28 [==============================] - 65s 2s/step - loss: 0.0730 - accuracy: 0.9761 - val_loss: 0.1328 - val_accuracy: 0.9591\n"
          ],
          "name": "stdout"
        }
      ]
    },
    {
      "cell_type": "code",
      "metadata": {
        "id": "7_Ve7hZlvNrv",
        "colab_type": "code",
        "colab": {
          "base_uri": "https://localhost:8080/",
          "height": 191
        },
        "outputId": "df95e214-409a-4294-8f35-8c9975f21ae1"
      },
      "source": [
        "from sklearn.metrics import classification_report\n",
        "predIdxs = model.predict(X_test)\n",
        "# for each image in the testing set we need to find the index of the\n",
        "# label with corresponding largest predicted probability\n",
        "predIdxs = np.argmax(predIdxs, axis=1)\n",
        "# show a nicely formatted classification report\n",
        "print(classification_report(Y_test.argmax(axis=1), predIdxs))\n",
        "# serialize the model to disk\n",
        "print(\"[INFO] saving mask detector model...\")\n",
        "model.save('model.h5')\n"
      ],
      "execution_count": 76,
      "outputs": [
        {
          "output_type": "stream",
          "text": [
            "              precision    recall  f1-score   support\n",
            "\n",
            "           0       0.96      0.96      0.96       129\n",
            "           1       0.97      0.97      0.97       147\n",
            "\n",
            "    accuracy                           0.96       276\n",
            "   macro avg       0.96      0.96      0.96       276\n",
            "weighted avg       0.96      0.96      0.96       276\n",
            "\n",
            "[INFO] saving mask detector model...\n"
          ],
          "name": "stdout"
        }
      ]
    },
    {
      "cell_type": "code",
      "metadata": {
        "id": "-WnPEobS0Als",
        "colab_type": "code",
        "colab": {
          "base_uri": "https://localhost:8080/",
          "height": 104
        },
        "outputId": "ce1672f9-7ee0-4d70-9e59-10a9bec712c5"
      },
      "source": [
        "from sklearn.metrics import confusion_matrix\n",
        "cm = confusion_matrix(Y_test.argmax(axis=1), predIdxs)\n",
        "total = sum(sum(cm))\n",
        "acc = (cm[0, 0] + cm[1, 1]) / total\n",
        "sensitivity = cm[0, 0] / (cm[0, 0] + cm[0, 1])\n",
        "specificity = cm[1, 1] / (cm[1, 0] + cm[1, 1])\n",
        "# show the confusion matrix, accuracy, sensitivity, and specificity\n",
        "print(cm)\n",
        "print(\"acc: {:.4f}\".format(acc))\n",
        "print(\"sensitivity: {:.4f}\".format(sensitivity))\n",
        "print(\"specificity: {:.4f}\".format(specificity))"
      ],
      "execution_count": 77,
      "outputs": [
        {
          "output_type": "stream",
          "text": [
            "[[124   5]\n",
            " [  5 142]]\n",
            "acc: 0.9638\n",
            "sensitivity: 0.9612\n",
            "specificity: 0.9660\n"
          ],
          "name": "stdout"
        }
      ]
    },
    {
      "cell_type": "code",
      "metadata": {
        "id": "_47MqcgG1akp",
        "colab_type": "code",
        "colab": {
          "base_uri": "https://localhost:8080/",
          "height": 279
        },
        "outputId": "a266d26b-fafe-4d8a-ee5a-e4178dc44562"
      },
      "source": [
        "from matplotlib import pyplot as plt\n",
        "\n",
        "plt.plot(history.history['loss'],'r',label='training loss')\n",
        "plt.plot(history.history['val_loss'],label='validation loss')\n",
        "plt.xlabel('# epochs')\n",
        "plt.ylabel('loss')\n",
        "plt.legend()\n",
        "plt.show()\n"
      ],
      "execution_count": 78,
      "outputs": [
        {
          "output_type": "display_data",
          "data": {
            "image/png": "[encoded data removed]",
            "text/plain": [
              "<Figure size 432x288 with 1 Axes>"
            ]
          },
          "metadata": {
            "tags": [],
            "needs_background": "light"
          }
        }
      ]
    },
    {
      "cell_type": "code",
      "metadata": {
        "id": "TEgxSyOa57ag",
        "colab_type": "code",
        "colab": {
          "base_uri": "https://localhost:8080/",
          "height": 279
        },
        "outputId": "a14e6837-52fe-407f-dcb5-22e7beac1ee8"
      },
      "source": [
        "plt.plot(history.history['accuracy'],'r',label='training accuracy')\n",
        "plt.plot(history.history['val_accuracy'],label='validation accuracy')\n",
        "plt.xlabel('# epochs')\n",
        "plt.ylabel('loss')\n",
        "plt.legend()\n",
        "plt.show()"
      ],
      "execution_count": 79,
      "outputs": [
        {
          "output_type": "display_data",
          "data": {
            "image/png": "[encoded data removed]",
            "text/plain": [
              "<Figure size 432x288 with 1 Axes>"
            ]
          },
          "metadata": {
            "tags": [],
            "needs_background": "light"
          }
        }
      ]
    },
    {
      "cell_type": "code",
      "metadata": {
        "id": "hJu8C7Wb5_av",
        "colab_type": "code",
        "colab": {}
      },
      "source": [
        " "
      ],
      "execution_count": 79,
      "outputs": []
    }
  ]
}